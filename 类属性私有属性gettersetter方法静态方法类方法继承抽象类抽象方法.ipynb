{
 "cells": [
  {
   "cell_type": "markdown",
   "id": "0039d299",
   "metadata": {},
   "source": [
    "# 普通类"
   ]
  },
  {
   "cell_type": "markdown",
   "id": "faa61f87",
   "metadata": {},
   "source": [
    "# class Person(): 括号里没有东西时，可以写成class Person:"
   ]
  },
  {
   "cell_type": "raw",
   "id": "5946bfa5",
   "metadata": {},
   "source": [
    "# 编写一段java代码，与python代码对比来看\n",
    "class Person{\n",
    "    public int age;\n",
    "    private String name;\n",
    "    \n",
    "    public int getAge(){\n",
    "        return this.age;\n",
    "    }\n",
    "    public String getName(){\n",
    "        return this.name;\n",
    "    }\n",
    "    public void setAge(int age){\n",
    "        this.age = age;\n",
    "    }\n",
    "    public void setString(String name){\n",
    "        this.name = name;\n",
    "    }\n",
    "    \n",
    "    public static void main(String[] args){\n",
    "        Person p1 = new Person();\n",
    "        p1.set_name(\"张三\");\n",
    "        System.out.println(p1.getName()); // 张三\n",
    "    }\n",
    "}\n",
    "\n"
   ]
  },
  {
   "cell_type": "code",
   "execution_count": 54,
   "id": "6fee50d9",
   "metadata": {},
   "outputs": [
    {
     "name": "stdout",
     "output_type": "stream",
     "text": [
      "张三\n"
     ]
    }
   ],
   "source": [
    "class Person():\n",
    "    age:int = 0   # 公开属性\n",
    "    __name: str = \"\"  # 私有属性\n",
    "\n",
    "    def set_name(self,name):\n",
    "        self.__name = name\n",
    "\n",
    "    def get_name(self):\n",
    "        return self.__name\n",
    "\n",
    "\n",
    "p1 = Person()\n",
    "p1.set_name(\"张三\")\n",
    "n = p1.get_name()\n",
    "print(n)"
   ]
  },
  {
   "cell_type": "markdown",
   "id": "2dc6ae22",
   "metadata": {},
   "source": [
    "### 还可以这样定义私有属性， 提供 getter setter方法"
   ]
  },
  {
   "cell_type": "code",
   "execution_count": 55,
   "id": "3d840eaf",
   "metadata": {},
   "outputs": [
    {
     "name": "stdout",
     "output_type": "stream",
     "text": [
      "调用了set方法\n",
      "调用了get方法\n",
      "张三\n"
     ]
    }
   ],
   "source": [
    "class Person(): # 此处的 () 可以不写\n",
    "    __name:str = \"\"\n",
    "    @property\n",
    "    def name(self):\n",
    "        print(\"调用了get方法\")\n",
    "        return self.__name\n",
    "    @name.setter\n",
    "    def name(self,name):\n",
    "        print(\"调用了set方法\")\n",
    "        self.__name = name\n",
    "\n",
    "p = Person()\n",
    "p.name = \"张三\"\n",
    "print(p.name)"
   ]
  },
  {
   "cell_type": "code",
   "execution_count": 56,
   "id": "a1e30bca",
   "metadata": {},
   "outputs": [],
   "source": [
    "# @property  # @property注解相当于 name.getter 申明这个方法是get方法.\n",
    "# 为什么不直接写name.getter呢，因为在这个代码之前还没有属性叫name，所以不能写name.getter。\n",
    "# 所以 @property这个注解同时做了两件事：1 申明一个属性 2 将被注解的函数申明为该属性的getter方法。"
   ]
  },
  {
   "cell_type": "code",
   "execution_count": 60,
   "id": "0538ea18",
   "metadata": {},
   "outputs": [
    {
     "name": "stdout",
     "output_type": "stream",
     "text": [
      "张三\n"
     ]
    }
   ],
   "source": [
    "# property申明属性时，函数名不一定要和类中的属性名保存一致，例如：\n",
    "class Person:\n",
    "\n",
    "    __xingming:str = \"\"\n",
    "\n",
    "    @property \n",
    "    def name(self):\n",
    "        return self.__xingming\n",
    "\n",
    "    @name.setter\n",
    "    def name(self, name):\n",
    "        self.__xingming = name\n",
    "\n",
    "p1 = Person()\n",
    "p1.name = \"张三\"\n",
    "print(p1.name)\n",
    "\n",
    "# 在这个例子中，__xingming是Person类中申明的私有属性\n",
    "# 但是p1.能访问到的属性名是name,即p1.name，并不是p1.__xingming"
   ]
  },
  {
   "cell_type": "markdown",
   "id": "d7e1d081",
   "metadata": {},
   "source": [
    "#  __new__函数 __init__函数"
   ]
  },
  {
   "cell_type": "code",
   "execution_count": 18,
   "id": "8420c30f",
   "metadata": {},
   "outputs": [],
   "source": [
    "class A:\n",
    "#     一般不会重写__new__函数。 通过重写n__new__可以实现单例，这个函数相当于java的构造函数\n",
    "#     __new__()必须要有返回值，返回实例化出来的实例对象。\n",
    "#     def __new__(cls, *args, **kwargs):\n",
    "#         print(\"new函数运行了\")\n",
    "#         return super(A, cls).__new__(cls)\n",
    "#         return object.__new__(cls)  # 上下两个return效果一样\n",
    "    def __init__(self):\n",
    "        print(\"init函数运行了\")\n",
    "    def f(self):\n",
    "        return \"1\""
   ]
  },
  {
   "cell_type": "code",
   "execution_count": 15,
   "id": "8d75325b",
   "metadata": {},
   "outputs": [
    {
     "name": "stdout",
     "output_type": "stream",
     "text": [
      "init函数运行了\n"
     ]
    }
   ],
   "source": [
    "a = A()  # 创建A的实例(对象)时，new运行 ， 很好理解：这行代码相当于java的 A a = new A(); 省略了new关键字"
   ]
  },
  {
   "cell_type": "code",
   "execution_count": 19,
   "id": "06ef7768",
   "metadata": {},
   "outputs": [
    {
     "data": {
      "text/plain": [
       "'1'"
      ]
     },
     "execution_count": 19,
     "metadata": {},
     "output_type": "execute_result"
    }
   ],
   "source": [
    "a.f()"
   ]
  },
  {
   "cell_type": "markdown",
   "id": "144a9fe7",
   "metadata": {},
   "source": [
    "# 单例模式 ，重写 __new__()"
   ]
  },
  {
   "cell_type": "code",
   "execution_count": 30,
   "id": "992aa9f2",
   "metadata": {},
   "outputs": [
    {
     "name": "stdout",
     "output_type": "stream",
     "text": [
      "<__main__.A object at 0x00000248EC2635B0> <__main__.A object at 0x00000248EC2635B0>\n"
     ]
    }
   ],
   "source": [
    "class A:\n",
    "    __instance = None\n",
    "    def __new__(cls):\n",
    "        if not cls.__instance:\n",
    "            cls.__instance = super(A, cls).__new__(cls)\n",
    "        return cls.__instance\n",
    "a1 = A()\n",
    "a2 = A()\n",
    "print(a1,a2)"
   ]
  },
  {
   "cell_type": "code",
   "execution_count": 48,
   "id": "291b54cc",
   "metadata": {},
   "outputs": [
    {
     "name": "stdout",
     "output_type": "stream",
     "text": [
      "<__main__.A object at 0x00000248EB8A0370> <__main__.A object at 0x00000248EB8A0370>\n",
      "3 4\n",
      "3 4\n"
     ]
    }
   ],
   "source": [
    "# 单例模式，带参数。 init的参数要和new的参数保持一致。\n",
    "class A:\n",
    "    __instance:A = None\n",
    "    def __new__(cls, i, j):\n",
    "        if not cls.__instance:\n",
    "            cls.__instance = super(A, cls).__new__(cls)\n",
    "        return cls.__instance\n",
    "    def __init__(self,i,j):  # __new__中有i,j两个参数，init中也要保持一致\n",
    "        self.i = i\n",
    "        self.j = j\n",
    "    def get(self):\n",
    "        print(self.i,self.j)\n",
    "a1 = A(1,2)\n",
    "a2 = A(3,4)\n",
    "print(a1,a2)\n",
    "a1.get()\n",
    "a2.get()"
   ]
  },
  {
   "cell_type": "markdown",
   "id": "ff22bb53",
   "metadata": {},
   "source": [
    "# 继承"
   ]
  },
  {
   "cell_type": "code",
   "execution_count": null,
   "id": "24040759",
   "metadata": {},
   "outputs": [],
   "source": [
    "class A:\n",
    "    pass\n",
    "\n",
    "class B(A):  # 表示B是A的子类\n",
    "    pass"
   ]
  },
  {
   "cell_type": "code",
   "execution_count": 69,
   "id": "5743a1a3",
   "metadata": {},
   "outputs": [],
   "source": [
    "class C:\n",
    "    pass\n",
    "class D:\n",
    "    pass\n",
    "class E(C,D): # 表示E同时是C和D的自类\n",
    "    pass"
   ]
  },
  {
   "cell_type": "code",
   "execution_count": null,
   "id": "987dc64b",
   "metadata": {},
   "outputs": [],
   "source": []
  },
  {
   "cell_type": "markdown",
   "id": "77eab36a",
   "metadata": {},
   "source": [
    "# 继承例子"
   ]
  },
  {
   "cell_type": "code",
   "execution_count": 62,
   "id": "3feb2635",
   "metadata": {},
   "outputs": [
    {
     "name": "stdout",
     "output_type": "stream",
     "text": [
      "吃完五花肉，可以休息了\n"
     ]
    }
   ],
   "source": [
    "# 食物 植物 动物 可食用的动植物 水果 猪  屎\n",
    "class Food:\n",
    "    __food_name:str = \"大米\"\n",
    "    @property\n",
    "    def foodname(self):\n",
    "        return self.__food_name\n",
    "    @foodname.setter\n",
    "    def foodname(self,foodname):\n",
    "        self.__food_name = foodname\n",
    "\n",
    "class Plants:\n",
    "    __eat_able:bool = False\n",
    "\n",
    "    @property\n",
    "    def eat_able(self):\n",
    "        return self.__eat_able\n",
    "    @eat_able.setter\n",
    "    def eat_able(self,eat_able):\n",
    "        self.__eat_able = eat_able\n",
    "\n",
    "class Animal:\n",
    "    __eat_able: bool = False\n",
    "\n",
    "    @property\n",
    "    def eat_able(self):\n",
    "        return self.__eat_able\n",
    "\n",
    "    @eat_able.setter\n",
    "    def eat_able(self, eat_able):\n",
    "        self.__eat_able = eat_able\n",
    "\n",
    "class PlantsEatable(Plants, Food):\n",
    "    def __init__(self):\n",
    "        self.foodname = \"可食用植物\"\n",
    "        self.eat_able = True\n",
    "        \n",
    "class AnimalEatable(Animal,Food):\n",
    "    def __init__(self):\n",
    "        self.foodname = \"可食用动物\"\n",
    "        self.eat_able = True\n",
    "\n",
    "class Fruit(PlantsEatable):\n",
    "    pass\n",
    "\n",
    "class Banana(Fruit):\n",
    "    pass\n",
    "\n",
    "\n",
    "class Pig(AnimalEatable):\n",
    "    pass\n",
    "\n",
    "class DuMoGU(Plants):\n",
    "    pass\n",
    "\n",
    "class Shi:\n",
    "    pass\n",
    "\n",
    "\n",
    "class Person:\n",
    "    __name:str = \"\"\n",
    "\n",
    "    @property\n",
    "    def name(self):\n",
    "        return self.__name\n",
    "\n",
    "    @name.setter\n",
    "    def name(self,name):\n",
    "        self.__name = name\n",
    "\n",
    "    def eat(self,food:Food):\n",
    "        if not isinstance(food, Food):\n",
    "            print(\"不是食物，不能乱吃\")\n",
    "            return\n",
    "        print(f\"吃完{food.foodname}，可以休息了\")\n",
    "\n",
    "person1 = Person()\n",
    "person1.name = \"张三\"\n",
    "\n",
    "s = Shi()\n",
    "f = Fruit()\n",
    "f.foodname = \"葡萄\"\n",
    "dmg = DuMoGU()\n",
    "z = Pig()\n",
    "z.foodname = \"五花肉\"\n",
    "person1.eat(z)"
   ]
  },
  {
   "cell_type": "code",
   "execution_count": null,
   "id": "0df1da56",
   "metadata": {},
   "outputs": [],
   "source": []
  },
  {
   "cell_type": "code",
   "execution_count": null,
   "id": "67d14d47",
   "metadata": {},
   "outputs": [],
   "source": []
  },
  {
   "cell_type": "markdown",
   "id": "5ca008bf",
   "metadata": {},
   "source": [
    "# 抽象类，抽象方法，静态方法，类方法"
   ]
  },
  {
   "cell_type": "code",
   "execution_count": 50,
   "id": "9110af5c",
   "metadata": {},
   "outputs": [],
   "source": [
    "from abc import ABCMeta, abstractmethod"
   ]
  },
  {
   "cell_type": "code",
   "execution_count": 51,
   "id": "565592c3",
   "metadata": {},
   "outputs": [
    {
     "name": "stdout",
     "output_type": "stream",
     "text": [
      "狗吃食物\n"
     ]
    }
   ],
   "source": [
    "\n",
    "from abc import ABCMeta, abstractmethod\n",
    "class IAnimal:\n",
    "    @abstractmethod\n",
    "    def eat(self, foodname): # 抽象方法\n",
    "        pass\n",
    "\n",
    "\n",
    "class Dog(IAnimal):\n",
    "\n",
    "\n",
    "    def eat(self, foodname): # 覆写/重写抽象方法\n",
    "        print(f'狗吃{foodname}')\n",
    "\n",
    "d = Dog()\n",
    "d.eat('食物')"
   ]
  },
  {
   "cell_type": "code",
   "execution_count": 54,
   "id": "8793455f",
   "metadata": {},
   "outputs": [
    {
     "name": "stdout",
     "output_type": "stream",
     "text": [
      "类方法运行了\n",
      "类方法运行了\n"
     ]
    }
   ],
   "source": [
    "class A:\n",
    "    @classmethod\n",
    "    def f1(cls):\n",
    "        print(\"类方法运行了\")\n",
    "\n",
    "a = A()\n",
    "a.f1()  # 通过对象调用\n",
    "\n",
    "A.f1() # 通过类名直接调用"
   ]
  },
  {
   "cell_type": "markdown",
   "id": "6a43762c",
   "metadata": {},
   "source": [
    "### 普通方法不能通过类名直接调用"
   ]
  },
  {
   "cell_type": "code",
   "execution_count": 57,
   "id": "92af99fd",
   "metadata": {},
   "outputs": [
    {
     "name": "stdout",
     "output_type": "stream",
     "text": [
      "方法运行了\n"
     ]
    },
    {
     "ename": "TypeError",
     "evalue": "f1() missing 1 required positional argument: 'cls'",
     "output_type": "error",
     "traceback": [
      "\u001b[1;31m---------------------------------------------------------------------------\u001b[0m",
      "\u001b[1;31mTypeError\u001b[0m                                 Traceback (most recent call last)",
      "\u001b[1;32mC:\\Users\\GODBLE~1\\AppData\\Local\\Temp/ipykernel_418480/543890669.py\u001b[0m in \u001b[0;36m<module>\u001b[1;34m\u001b[0m\n\u001b[0;32m      7\u001b[0m \u001b[0ma\u001b[0m\u001b[1;33m.\u001b[0m\u001b[0mf1\u001b[0m\u001b[1;33m(\u001b[0m\u001b[1;33m)\u001b[0m  \u001b[1;31m# 对象调用没有错误，方法运行了\u001b[0m\u001b[1;33m\u001b[0m\u001b[1;33m\u001b[0m\u001b[0m\n\u001b[0;32m      8\u001b[0m \u001b[1;33m\u001b[0m\u001b[0m\n\u001b[1;32m----> 9\u001b[1;33m \u001b[0mA\u001b[0m\u001b[1;33m.\u001b[0m\u001b[0mf1\u001b[0m\u001b[1;33m(\u001b[0m\u001b[1;33m)\u001b[0m  \u001b[1;31m# 普通方法不能通过类名直接调用\u001b[0m\u001b[1;33m\u001b[0m\u001b[1;33m\u001b[0m\u001b[0m\n\u001b[0m",
      "\u001b[1;31mTypeError\u001b[0m: f1() missing 1 required positional argument: 'cls'"
     ]
    }
   ],
   "source": [
    "class A:\n",
    "    # @classmethod  # 如果去掉 @classmethod\n",
    "    def f1(cls):\n",
    "        print(\"方法运行了\")\n",
    "\n",
    "a = A()\n",
    "a.f1()  # 对象调用没有错误，方法运行了\n",
    "\n",
    "A.f1()  # 普通方法不能通过类名直接调用"
   ]
  },
  {
   "cell_type": "code",
   "execution_count": 59,
   "id": "5af69ad4",
   "metadata": {},
   "outputs": [
    {
     "name": "stdout",
     "output_type": "stream",
     "text": [
      "静态方法运行了\n",
      "A\n",
      "-----------------------\n",
      "静态方法运行了\n",
      "A\n"
     ]
    }
   ],
   "source": [
    "class A:\n",
    "    @staticmethod\n",
    "    def f1(cls):\n",
    "        print(\"静态方法运行了\")\n",
    "        print(cls.__name__)\n",
    "\n",
    "A.f1(A)\n",
    "print('-----------------------')\n",
    "a = A()\n",
    "a.f1(A)"
   ]
  },
  {
   "cell_type": "markdown",
   "id": "706d2032",
   "metadata": {},
   "source": [
    "## python的classmethod相当于java的static方法。"
   ]
  },
  {
   "cell_type": "code",
   "execution_count": 2,
   "id": "9e1805c5",
   "metadata": {},
   "outputs": [
    {
     "name": "stdout",
     "output_type": "stream",
     "text": [
      "True\n"
     ]
    }
   ],
   "source": [
    "# classmethod的应用，编写一个工具类, 判断字符串是否为空，是否为数字\n",
    "class StringUtils:\n",
    "    @classmethod\n",
    "    def is_empty(cls, s:str):\n",
    "        return s==None or s.strip().__len__()==0\n",
    "\n",
    "    @classmethod\n",
    "    def is_digital(self,s:str):\n",
    "        return s!=None and s.strip().isdigit()\n",
    "\n",
    "print(StringUtils.is_empty('\\n\\t   '))"
   ]
  },
  {
   "cell_type": "markdown",
   "id": "47898291",
   "metadata": {},
   "source": [
    "# 继承的应用，判断字符串是否为空，是否为数字"
   ]
  },
  {
   "cell_type": "code",
   "execution_count": 15,
   "id": "c23e9010",
   "metadata": {},
   "outputs": [
    {
     "name": "stdout",
     "output_type": "stream",
     "text": [
      "123 \n",
      "True\n"
     ]
    }
   ],
   "source": [
    "class mstr(str):\n",
    "    def is_empty(cls):\n",
    "        return s==None or s.strip().__len__()==0\n",
    "    def isdigit(self):\n",
    "        return s!=None and s.strip().isdigit()\n",
    "\n",
    "s = mstr(\"123 \")\n",
    "print(s)\n",
    "print(s.isdigit())"
   ]
  },
  {
   "cell_type": "code",
   "execution_count": 17,
   "id": "d023da3b",
   "metadata": {},
   "outputs": [
    {
     "name": "stdout",
     "output_type": "stream",
     "text": [
      "123 \n",
      "False\n"
     ]
    }
   ],
   "source": [
    "ss = \"123 \"\n",
    "print(ss)\n",
    "print(ss.isdigit())"
   ]
  },
  {
   "cell_type": "code",
   "execution_count": 16,
   "id": "5623e92d",
   "metadata": {},
   "outputs": [
    {
     "name": "stdout",
     "output_type": "stream",
     "text": [
      "True\n"
     ]
    }
   ],
   "source": [
    "s = mstr(\" \\t\\n\")\n",
    "print(s.is_empty())"
   ]
  }
 ],
 "metadata": {
  "kernelspec": {
   "display_name": "Python 3 (ipykernel)",
   "language": "python",
   "name": "python3"
  },
  "language_info": {
   "codemirror_mode": {
    "name": "ipython",
    "version": 3
   },
   "file_extension": ".py",
   "mimetype": "text/x-python",
   "name": "python",
   "nbconvert_exporter": "python",
   "pygments_lexer": "ipython3",
   "version": "3.9.13"
  }
 },
 "nbformat": 4,
 "nbformat_minor": 5
}
